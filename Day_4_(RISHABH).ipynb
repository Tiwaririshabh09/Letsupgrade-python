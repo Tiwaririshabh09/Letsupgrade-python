{
  "nbformat": 4,
  "nbformat_minor": 0,
  "metadata": {
    "colab": {
      "name": "Day 4 (RISHABH).ipynb",
      "provenance": [],
      "collapsed_sections": [],
      "authorship_tag": "ABX9TyOMDppoI7dImvDEkawmbp09",
      "include_colab_link": true
    },
    "kernelspec": {
      "name": "python3",
      "display_name": "Python 3"
    }
  },
  "cells": [
    {
      "cell_type": "markdown",
      "metadata": {
        "id": "view-in-github",
        "colab_type": "text"
      },
      "source": [
        "<a href=\"https://colab.research.google.com/github/Tiwaririshabh09/Letsupgrade-python/blob/master/Day_4_(RISHABH).ipynb\" target=\"_parent\"><img src=\"https://colab.research.google.com/assets/colab-badge.svg\" alt=\"Open In Colab\"/></a>"
      ]
    },
    {
      "cell_type": "markdown",
      "metadata": {
        "id": "xpajymcLvFVU",
        "colab_type": "text"
      },
      "source": [
        "Q.1."
      ]
    },
    {
      "cell_type": "code",
      "metadata": {
        "id": "KBhVmrWavp1T",
        "colab_type": "code",
        "colab": {
          "base_uri": "https://localhost:8080/",
          "height": 34
        },
        "outputId": "efd79bbc-9885-4666-e7d3-e904f565e4cb"
      },
      "source": [
        " for num in range(1042000,702648265):\n",
        "    order=len(str(num))\n",
        "    temp=num\n",
        "    sum=0\n",
        "    while temp > 0:\n",
        "        digit=temp%10\n",
        "        sum=sum+digit**order\n",
        "        temp=temp//10\n",
        " \n",
        "        break\n",
        "    if sum==num:\n",
        " \n",
        "              print(num)"
      ],
      "execution_count": null,
      "outputs": [
        {
          "output_type": "stream",
          "text": [
            "4782969\n"
          ],
          "name": "stdout"
        }
      ]
    }
  ]
}